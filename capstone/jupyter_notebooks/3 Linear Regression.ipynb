{
 "cells": [
  {
   "cell_type": "code",
   "execution_count": 24,
   "metadata": {},
   "outputs": [],
   "source": [
    "import pandas as pd\n",
    "import numpy as np\n",
    "import matplotlib.pyplot as pl\n",
    "import pandasql as sq\n",
    "\n",
    "%matplotlib inline"
   ]
  },
  {
   "cell_type": "code",
   "execution_count": 4,
   "metadata": {},
   "outputs": [
    {
     "name": "stdout",
     "output_type": "stream",
     "text": [
      "<class 'pandas.core.frame.DataFrame'>\n",
      "RangeIndex: 1503424 entries, 0 to 1503423\n",
      "Data columns (total 4 columns):\n",
      "Unnamed: 0          1503424 non-null int64\n",
      "price               1503424 non-null float64\n",
      "image_top_1         1503424 non-null float64\n",
      "deal_probability    1503424 non-null float64\n",
      "dtypes: float64(3), int64(1)\n",
      "memory usage: 45.9 MB\n"
     ]
    }
   ],
   "source": [
    "numeric = pd.read_csv('../datasets/only_numeric.csv')\n",
    "numeric.info()"
   ]
  },
  {
   "cell_type": "code",
   "execution_count": 5,
   "metadata": {},
   "outputs": [
    {
     "name": "stdout",
     "output_type": "stream",
     "text": [
      "0.0783165207207\n"
     ]
    }
   ],
   "source": [
    "from sklearn import model_selection\n",
    "numericY = numeric['deal_probability']\n",
    "numericX = numeric.drop('deal_probability', axis=1)\n",
    "\n",
    "X_train, X_test, y_train, y_test = model_selection.train_test_split(numericX, numericY, test_size=0.30)\n",
    "\n",
    "from sklearn import linear_model\n",
    "reg = linear_model.LinearRegression()\n",
    "reg.fit(X_train, y_train)\n",
    "\n",
    "y_pred = reg.predict(X_test)\n",
    "\n",
    "from sklearn import metrics\n",
    "rmse = metrics.mean_squared_error(y_test, y_pred)\n",
    "print rmse"
   ]
  },
  {
   "cell_type": "code",
   "execution_count": 25,
   "metadata": {},
   "outputs": [
    {
     "data": {
      "text/plain": [
       "(array([  0.99133899,   2.27467854,  17.91148088]),\n",
       " array([ 0.7801275,  0.       ,  0.       ]))"
      ]
     },
     "execution_count": 25,
     "metadata": {},
     "output_type": "execute_result"
    }
   ],
   "source": [
    "from sklearn import feature_selection as fs\n",
    "fs.f_classif(X_train, y_train)"
   ]
  },
  {
   "cell_type": "code",
   "execution_count": 28,
   "metadata": {},
   "outputs": [
    {
     "name": "stdout",
     "output_type": "stream",
     "text": [
      "<class 'pandas.core.frame.DataFrame'>\n",
      "RangeIndex: 1503424 entries, 0 to 1503423\n",
      "Data columns (total 5 columns):\n",
      "Unnamed: 0          1503424 non-null int64\n",
      "price               1503424 non-null float64\n",
      "item_seq_number     1503424 non-null int64\n",
      "image_top_1         1503424 non-null float64\n",
      "deal_probability    1503424 non-null float64\n",
      "dtypes: float64(3), int64(2)\n",
      "memory usage: 57.4 MB\n"
     ]
    }
   ],
   "source": [
    "itemseq = pd.read_csv('../datasets/itemseq.csv')\n",
    "itemseq.info()"
   ]
  },
  {
   "cell_type": "code",
   "execution_count": 29,
   "metadata": {},
   "outputs": [
    {
     "name": "stdout",
     "output_type": "stream",
     "text": [
      "0.065720638094\n"
     ]
    }
   ],
   "source": [
    "itemseqY = itemseq['deal_probability']\n",
    "itemseqX = itemseq.drop('deal_probability', axis=1)\n",
    "\n",
    "X_train, X_test, y_train, y_test = model_selection.train_test_split(itemseqX, itemseqY, test_size=0.30)\n",
    "\n",
    "from sklearn import linear_model\n",
    "reg = linear_model.LinearRegression()\n",
    "reg.fit(X_train, y_train)\n",
    "\n",
    "y_pred = reg.predict(X_test)\n",
    "\n",
    "from sklearn import metrics\n",
    "rmse = metrics.mean_squared_error(y_test, y_pred)\n",
    "print rmse"
   ]
  },
  {
   "cell_type": "code",
   "execution_count": 30,
   "metadata": {},
   "outputs": [
    {
     "data": {
      "text/plain": [
       "(array([  9.99115396e-01,   6.87602245e-03,   8.46350244e+00,\n",
       "          1.79094546e+01]),\n",
       " array([ 0.53004273,  1.        ,  0.        ,  0.        ]))"
      ]
     },
     "execution_count": 30,
     "metadata": {},
     "output_type": "execute_result"
    }
   ],
   "source": [
    "fs.f_classif(X_train, y_train)"
   ]
  }
 ],
 "metadata": {
  "kernelspec": {
   "display_name": "Python 2",
   "language": "python",
   "name": "python2"
  },
  "language_info": {
   "codemirror_mode": {
    "name": "ipython",
    "version": 2
   },
   "file_extension": ".py",
   "mimetype": "text/x-python",
   "name": "python",
   "nbconvert_exporter": "python",
   "pygments_lexer": "ipython2",
   "version": "2.7.14"
  }
 },
 "nbformat": 4,
 "nbformat_minor": 2
}
